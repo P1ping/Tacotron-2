{
 "cells": [
  {
   "cell_type": "code",
   "execution_count": 35,
   "metadata": {},
   "outputs": [],
   "source": [
    "import os\n",
    "import numpy as np\n",
    "from datasets.audio import *\n",
    "from tacotron.utils.plot import *\n",
    "from hparams import hparams\n",
    "from datasets.preprocessor import _process_utterance\n",
    "\n",
    "wav_path = r'E:\\XShell_FTP\\data_thchs30\\data_thchs30\\data\\C8_558.wav'\n",
    "text = 'ta1 jin3 ping2 yao1 bu4 de5 li4 liang4 zai4 yong3 dao4 shang4 xia4 fan1 teng2 yong3 dong4 she2 xing2 zhuang4 ru2 hai3 tun2 yi4 zhi2 yi3 yi4 tou2 de5 you1 shi4 ling3 xian1'\n",
    "\n",
    "hparams.sample_rate = 16000\n",
    "hparams.hop_size = 200\n",
    "hparams.win_size = 800\n",
    "hparams.n_fft = 1024\n",
    "hparams.num_freq = 513\n",
    "\n",
    "hparams.trim_top_db = 40\n",
    "hparams.max_mel_frames = 1200"
   ]
  },
  {
   "cell_type": "code",
   "execution_count": 36,
   "metadata": {},
   "outputs": [],
   "source": [
    "mel_dir = os.path.join(os.getcwd(), 'test_trimming', 'mel_dir')\n",
    "lin_dir = os.path.join(os.getcwd(), 'test_trimming', 'lin_dir')\n",
    "wav_dir = os.path.join(os.getcwd(), 'test_trimming', 'wav_dir')\n",
    "out_dir = os.path.join(os.getcwd(), 'test_trimming', 'out_dir')\n",
    "os.makedirs(mel_dir, exist_ok=True)\n",
    "os.makedirs(wav_dir, exist_ok=True)\n",
    "os.makedirs(lin_dir, exist_ok=True)\n",
    "os.makedirs(out_dir, exist_ok=True)\n",
    "\n",
    "wav_name, mel_name, lin_name, time_steps, num_frames, text = _process_utterance(mel_dir, lin_dir, wav_dir, 'test', wav_path, text, hparams)"
   ]
  },
  {
   "cell_type": "code",
   "execution_count": 37,
   "metadata": {},
   "outputs": [],
   "source": [
    "mel_file = os.path.join(mel_dir, mel_name)\n",
    "mel_spectro = np.load(mel_file)\n",
    "mel_spectro.shape\n",
    "wav = inv_mel_spectrogram(mel_spectro.T, hparams) \n",
    "\n",
    "save_wav(wav, os.path.join(out_dir, 'test_mel.wav'),sr=hparams.sample_rate)\n",
    "plot_spectrogram(mel_spectro, path=os.path.join(out_dir, 'test_mel.png'))"
   ]
  },
  {
   "cell_type": "code",
   "execution_count": 25,
   "metadata": {},
   "outputs": [],
   "source": [
    "lin_file = os.path.join(lin_dir, lin_name)\n",
    "lin_spectro = np.load(lin_file)\n",
    "lin_spectro.shape\n",
    "wav = inv_linear_spectrogram(lin_spectro.T, hparams)\n",
    "\n",
    "save_wav(wav, os.path.join(out_dir, 'test_linear.wav'),sr=hparams.sample_rate)\n",
    "plot_spectrogram(lin_spectro, path=os.path.join(out_dir, 'test_linear.png'),auto_aspect=True)"
   ]
  },
  {
   "cell_type": "code",
   "execution_count": null,
   "metadata": {},
   "outputs": [],
   "source": []
  }
 ],
 "metadata": {
  "kernelspec": {
   "display_name": "Python 3",
   "language": "python",
   "name": "python3"
  },
  "language_info": {
   "codemirror_mode": {
    "name": "ipython",
    "version": 3
   },
   "file_extension": ".py",
   "mimetype": "text/x-python",
   "name": "python",
   "nbconvert_exporter": "python",
   "pygments_lexer": "ipython3",
   "version": "3.7.6"
  }
 },
 "nbformat": 4,
 "nbformat_minor": 4
}
